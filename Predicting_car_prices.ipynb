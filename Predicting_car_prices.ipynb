{
 "cells": [
  {
   "cell_type": "markdown",
   "metadata": {
    "collapsed": true
   },
   "source": [
    "# Predicting Car Prices"
   ]
  },
  {
   "cell_type": "markdown",
   "metadata": {},
   "source": [
    "In this project, we'll use a k-nearest neighbors algorithm to predict a car's market price using its attributes. The data set we will be working with contains information on various cars. For each car we have information about the technical aspects of the vehicle such as the motor's displacement, the weight of the car, the miles per gallon, how fast the car accelerates, and more.The dataset can be found [here](https://archive.ics.uci.edu/ml/machine-learning-databases/autos/imports-85.data)."
   ]
  },
  {
   "cell_type": "markdown",
   "metadata": {},
   "source": [
    "-----\n",
    "Introduction to the Dataset\n",
    "---------"
   ]
  },
  {
   "cell_type": "code",
   "execution_count": 43,
   "metadata": {
    "collapsed": false
   },
   "outputs": [],
   "source": [
    "import pandas as pd\n",
    "import numpy as np\n",
    "from sklearn.neighbors import KNeighborsRegressor\n",
    "from sklearn.metrics import mean_squared_error\n",
    "import matplotlib.pyplot as plt\n",
    "from sklearn.model_selection import cross_val_score, KFold"
   ]
  },
  {
   "cell_type": "markdown",
   "metadata": {},
   "source": [
    "the column names can be found in the description o fthe datset [here](https://archive.ics.uci.edu/ml/datasets/automobile)"
   ]
  },
  {
   "cell_type": "code",
   "execution_count": 44,
   "metadata": {
    "collapsed": true
   },
   "outputs": [],
   "source": [
    "col_names = ['symboling', 'normalized-losses', 'make', 'fuel-type', \n",
    "             'aspiration', 'num-of-doors', 'body-style','drive-wheels',\n",
    "             'engine-location', 'wheel-base', 'length', 'width', 'height',\n",
    "             'curb-weight', 'engine-type','num-of-cylinders', 'engine-size',\n",
    "             'fuel-system', 'bore', 'stroke', 'compression-rate', 'horsepower',\n",
    "             'peak-rpm', 'city-mpg', 'highway-mpg', 'price']\n",
    "# reading csv file and adding column names\n",
    "cars = pd.read_csv('imports-85.data', names= col_names)"
   ]
  },
  {
   "cell_type": "code",
   "execution_count": 45,
   "metadata": {
    "collapsed": false
   },
   "outputs": [
    {
     "data": {
      "text/html": [
       "<div>\n",
       "<style scoped>\n",
       "    .dataframe tbody tr th:only-of-type {\n",
       "        vertical-align: middle;\n",
       "    }\n",
       "\n",
       "    .dataframe tbody tr th {\n",
       "        vertical-align: top;\n",
       "    }\n",
       "\n",
       "    .dataframe thead th {\n",
       "        text-align: right;\n",
       "    }\n",
       "</style>\n",
       "<table border=\"1\" class=\"dataframe\">\n",
       "  <thead>\n",
       "    <tr style=\"text-align: right;\">\n",
       "      <th></th>\n",
       "      <th>symboling</th>\n",
       "      <th>normalized-losses</th>\n",
       "      <th>make</th>\n",
       "      <th>fuel-type</th>\n",
       "      <th>aspiration</th>\n",
       "      <th>num-of-doors</th>\n",
       "      <th>body-style</th>\n",
       "      <th>drive-wheels</th>\n",
       "      <th>engine-location</th>\n",
       "      <th>wheel-base</th>\n",
       "      <th>...</th>\n",
       "      <th>engine-size</th>\n",
       "      <th>fuel-system</th>\n",
       "      <th>bore</th>\n",
       "      <th>stroke</th>\n",
       "      <th>compression-rate</th>\n",
       "      <th>horsepower</th>\n",
       "      <th>peak-rpm</th>\n",
       "      <th>city-mpg</th>\n",
       "      <th>highway-mpg</th>\n",
       "      <th>price</th>\n",
       "    </tr>\n",
       "  </thead>\n",
       "  <tbody>\n",
       "    <tr>\n",
       "      <th>174</th>\n",
       "      <td>-1</td>\n",
       "      <td>65</td>\n",
       "      <td>toyota</td>\n",
       "      <td>diesel</td>\n",
       "      <td>turbo</td>\n",
       "      <td>four</td>\n",
       "      <td>sedan</td>\n",
       "      <td>fwd</td>\n",
       "      <td>front</td>\n",
       "      <td>102.4</td>\n",
       "      <td>...</td>\n",
       "      <td>110</td>\n",
       "      <td>idi</td>\n",
       "      <td>3.27</td>\n",
       "      <td>3.35</td>\n",
       "      <td>22.5</td>\n",
       "      <td>73</td>\n",
       "      <td>4500</td>\n",
       "      <td>30</td>\n",
       "      <td>33</td>\n",
       "      <td>10698</td>\n",
       "    </tr>\n",
       "    <tr>\n",
       "      <th>121</th>\n",
       "      <td>1</td>\n",
       "      <td>154</td>\n",
       "      <td>plymouth</td>\n",
       "      <td>gas</td>\n",
       "      <td>std</td>\n",
       "      <td>four</td>\n",
       "      <td>sedan</td>\n",
       "      <td>fwd</td>\n",
       "      <td>front</td>\n",
       "      <td>93.7</td>\n",
       "      <td>...</td>\n",
       "      <td>90</td>\n",
       "      <td>2bbl</td>\n",
       "      <td>2.97</td>\n",
       "      <td>3.23</td>\n",
       "      <td>9.4</td>\n",
       "      <td>68</td>\n",
       "      <td>5500</td>\n",
       "      <td>31</td>\n",
       "      <td>38</td>\n",
       "      <td>6692</td>\n",
       "    </tr>\n",
       "    <tr>\n",
       "      <th>187</th>\n",
       "      <td>2</td>\n",
       "      <td>94</td>\n",
       "      <td>volkswagen</td>\n",
       "      <td>diesel</td>\n",
       "      <td>turbo</td>\n",
       "      <td>four</td>\n",
       "      <td>sedan</td>\n",
       "      <td>fwd</td>\n",
       "      <td>front</td>\n",
       "      <td>97.3</td>\n",
       "      <td>...</td>\n",
       "      <td>97</td>\n",
       "      <td>idi</td>\n",
       "      <td>3.01</td>\n",
       "      <td>3.40</td>\n",
       "      <td>23.0</td>\n",
       "      <td>68</td>\n",
       "      <td>4500</td>\n",
       "      <td>37</td>\n",
       "      <td>42</td>\n",
       "      <td>9495</td>\n",
       "    </tr>\n",
       "    <tr>\n",
       "      <th>176</th>\n",
       "      <td>-1</td>\n",
       "      <td>65</td>\n",
       "      <td>toyota</td>\n",
       "      <td>gas</td>\n",
       "      <td>std</td>\n",
       "      <td>four</td>\n",
       "      <td>sedan</td>\n",
       "      <td>fwd</td>\n",
       "      <td>front</td>\n",
       "      <td>102.4</td>\n",
       "      <td>...</td>\n",
       "      <td>122</td>\n",
       "      <td>mpfi</td>\n",
       "      <td>3.31</td>\n",
       "      <td>3.54</td>\n",
       "      <td>8.7</td>\n",
       "      <td>92</td>\n",
       "      <td>4200</td>\n",
       "      <td>27</td>\n",
       "      <td>32</td>\n",
       "      <td>10898</td>\n",
       "    </tr>\n",
       "    <tr>\n",
       "      <th>60</th>\n",
       "      <td>0</td>\n",
       "      <td>115</td>\n",
       "      <td>mazda</td>\n",
       "      <td>gas</td>\n",
       "      <td>std</td>\n",
       "      <td>four</td>\n",
       "      <td>sedan</td>\n",
       "      <td>fwd</td>\n",
       "      <td>front</td>\n",
       "      <td>98.8</td>\n",
       "      <td>...</td>\n",
       "      <td>122</td>\n",
       "      <td>2bbl</td>\n",
       "      <td>3.39</td>\n",
       "      <td>3.39</td>\n",
       "      <td>8.6</td>\n",
       "      <td>84</td>\n",
       "      <td>4800</td>\n",
       "      <td>26</td>\n",
       "      <td>32</td>\n",
       "      <td>8495</td>\n",
       "    </tr>\n",
       "  </tbody>\n",
       "</table>\n",
       "<p>5 rows × 26 columns</p>\n",
       "</div>"
      ],
      "text/plain": [
       "     symboling normalized-losses        make fuel-type aspiration  \\\n",
       "174         -1                65      toyota    diesel      turbo   \n",
       "121          1               154    plymouth       gas        std   \n",
       "187          2                94  volkswagen    diesel      turbo   \n",
       "176         -1                65      toyota       gas        std   \n",
       "60           0               115       mazda       gas        std   \n",
       "\n",
       "    num-of-doors body-style drive-wheels engine-location  wheel-base  ...    \\\n",
       "174         four      sedan          fwd           front       102.4  ...     \n",
       "121         four      sedan          fwd           front        93.7  ...     \n",
       "187         four      sedan          fwd           front        97.3  ...     \n",
       "176         four      sedan          fwd           front       102.4  ...     \n",
       "60          four      sedan          fwd           front        98.8  ...     \n",
       "\n",
       "     engine-size  fuel-system  bore  stroke compression-rate horsepower  \\\n",
       "174          110          idi  3.27    3.35             22.5         73   \n",
       "121           90         2bbl  2.97    3.23              9.4         68   \n",
       "187           97          idi  3.01    3.40             23.0         68   \n",
       "176          122         mpfi  3.31    3.54              8.7         92   \n",
       "60           122         2bbl  3.39    3.39              8.6         84   \n",
       "\n",
       "     peak-rpm city-mpg highway-mpg  price  \n",
       "174      4500       30          33  10698  \n",
       "121      5500       31          38   6692  \n",
       "187      4500       37          42   9495  \n",
       "176      4200       27          32  10898  \n",
       "60       4800       26          32   8495  \n",
       "\n",
       "[5 rows x 26 columns]"
      ]
     },
     "execution_count": 45,
     "metadata": {},
     "output_type": "execute_result"
    }
   ],
   "source": [
    "cars.sample(5)"
   ]
  },
  {
   "cell_type": "code",
   "execution_count": 46,
   "metadata": {
    "collapsed": false
   },
   "outputs": [
    {
     "name": "stdout",
     "output_type": "stream",
     "text": [
      "<class 'pandas.core.frame.DataFrame'>\n",
      "RangeIndex: 205 entries, 0 to 204\n",
      "Data columns (total 26 columns):\n",
      "symboling            205 non-null int64\n",
      "normalized-losses    205 non-null object\n",
      "make                 205 non-null object\n",
      "fuel-type            205 non-null object\n",
      "aspiration           205 non-null object\n",
      "num-of-doors         205 non-null object\n",
      "body-style           205 non-null object\n",
      "drive-wheels         205 non-null object\n",
      "engine-location      205 non-null object\n",
      "wheel-base           205 non-null float64\n",
      "length               205 non-null float64\n",
      "width                205 non-null float64\n",
      "height               205 non-null float64\n",
      "curb-weight          205 non-null int64\n",
      "engine-type          205 non-null object\n",
      "num-of-cylinders     205 non-null object\n",
      "engine-size          205 non-null int64\n",
      "fuel-system          205 non-null object\n",
      "bore                 205 non-null object\n",
      "stroke               205 non-null object\n",
      "compression-rate     205 non-null float64\n",
      "horsepower           205 non-null object\n",
      "peak-rpm             205 non-null object\n",
      "city-mpg             205 non-null int64\n",
      "highway-mpg          205 non-null int64\n",
      "price                205 non-null object\n",
      "dtypes: float64(5), int64(5), object(16)\n",
      "memory usage: 41.7+ KB\n"
     ]
    }
   ],
   "source": [
    "cars.info()"
   ]
  },
  {
   "cell_type": "markdown",
   "metadata": {},
   "source": [
    "folowing columns are numeric and can be potentially used as features for the k-nearest neighbors algorithm:\n",
    "- normalized-losses*\n",
    "- wheel-base\n",
    "- length\n",
    "- width\n",
    "- height\n",
    "- curb-weight\n",
    "- engine-size\n",
    "- bore*\n",
    "- stroke*\n",
    "- compression-rate\n",
    "- horsepower*\n",
    "- peak-rpm*\n",
    "- city-mpg\n",
    "- highway-mpg\n",
    "\n",
    "and the target parameter (column) is:\n",
    "- price*\n",
    "\n",
    "\n",
    "*these parameters need to be cleaned and/or converted to float"
   ]
  },
  {
   "cell_type": "code",
   "execution_count": 47,
   "metadata": {
    "collapsed": false
   },
   "outputs": [],
   "source": [
    "# subseting the columns with numerical values in a new dataframe\n",
    "num_cols = ['normalized-losses', 'wheel-base', 'length', 'width',\n",
    "            'height', 'curb-weight', 'engine-size', 'bore', 'stroke',\n",
    "            'compression-rate', 'horsepower', 'peak-rpm', 'city-mpg',\n",
    "            'highway-mpg', 'price']\n",
    "cars_num = cars[num_cols]"
   ]
  },
  {
   "cell_type": "markdown",
   "metadata": {},
   "source": [
    "--------\n",
    "Data Cleaning and normalizing\n",
    "---------------"
   ]
  },
  {
   "cell_type": "markdown",
   "metadata": {},
   "source": [
    "there are some columns,e.g., normalized-losses, that contain \"?\" which should be removed"
   ]
  },
  {
   "cell_type": "code",
   "execution_count": 48,
   "metadata": {
    "collapsed": false
   },
   "outputs": [],
   "source": [
    "# replacing \"?\" by np.nan\n",
    "cars_num = cars_num.replace('?', np.nan).copy()"
   ]
  },
  {
   "cell_type": "code",
   "execution_count": 49,
   "metadata": {
    "collapsed": false
   },
   "outputs": [
    {
     "name": "stdout",
     "output_type": "stream",
     "text": [
      "<class 'pandas.core.frame.DataFrame'>\n",
      "RangeIndex: 205 entries, 0 to 204\n",
      "Data columns (total 15 columns):\n",
      "normalized-losses    164 non-null object\n",
      "wheel-base           205 non-null float64\n",
      "length               205 non-null float64\n",
      "width                205 non-null float64\n",
      "height               205 non-null float64\n",
      "curb-weight          205 non-null int64\n",
      "engine-size          205 non-null int64\n",
      "bore                 201 non-null object\n",
      "stroke               201 non-null object\n",
      "compression-rate     205 non-null float64\n",
      "horsepower           203 non-null object\n",
      "peak-rpm             203 non-null object\n",
      "city-mpg             205 non-null int64\n",
      "highway-mpg          205 non-null int64\n",
      "price                201 non-null object\n",
      "dtypes: float64(5), int64(4), object(6)\n",
      "memory usage: 24.1+ KB\n"
     ]
    }
   ],
   "source": [
    "cars_num.info()"
   ]
  },
  {
   "cell_type": "code",
   "execution_count": 50,
   "metadata": {
    "collapsed": false
   },
   "outputs": [],
   "source": [
    "# converting object type columns to float\n",
    "cars_num = cars_num.astype({'normalized-losses': float, 'bore':float, \n",
    "                            'stroke':float, 'horsepower':float, \n",
    "                            'peak-rpm':float, 'price':float})"
   ]
  },
  {
   "cell_type": "code",
   "execution_count": 51,
   "metadata": {
    "collapsed": false
   },
   "outputs": [
    {
     "data": {
      "text/plain": [
       "normalized-losses    41\n",
       "wheel-base            0\n",
       "length                0\n",
       "width                 0\n",
       "height                0\n",
       "curb-weight           0\n",
       "engine-size           0\n",
       "bore                  4\n",
       "stroke                4\n",
       "compression-rate      0\n",
       "horsepower            2\n",
       "peak-rpm              2\n",
       "city-mpg              0\n",
       "highway-mpg           0\n",
       "price                 4\n",
       "dtype: int64"
      ]
     },
     "execution_count": 51,
     "metadata": {},
     "output_type": "execute_result"
    }
   ],
   "source": [
    "# number of missing row values in each column\n",
    "cars_num.isna().sum(axis=0)"
   ]
  },
  {
   "cell_type": "code",
   "execution_count": 52,
   "metadata": {
    "collapsed": false
   },
   "outputs": [],
   "source": [
    "# removing rows with missing price - since price is our target \n",
    "cars_num.dropna(axis=0, subset=['price'], inplace=True)"
   ]
  },
  {
   "cell_type": "code",
   "execution_count": 53,
   "metadata": {
    "collapsed": false
   },
   "outputs": [
    {
     "data": {
      "text/plain": [
       "normalized-losses    37\n",
       "wheel-base            0\n",
       "length                0\n",
       "width                 0\n",
       "height                0\n",
       "curb-weight           0\n",
       "engine-size           0\n",
       "bore                  4\n",
       "stroke                4\n",
       "compression-rate      0\n",
       "horsepower            2\n",
       "peak-rpm              2\n",
       "city-mpg              0\n",
       "highway-mpg           0\n",
       "price                 0\n",
       "dtype: int64"
      ]
     },
     "execution_count": 53,
     "metadata": {},
     "output_type": "execute_result"
    }
   ],
   "source": [
    "cars_num.isna().sum(axis=0)"
   ]
  },
  {
   "cell_type": "markdown",
   "metadata": {},
   "source": [
    "since close to 15% of rows have missing values in \"normalized-lossess\" we drop the column entirely"
   ]
  },
  {
   "cell_type": "code",
   "execution_count": 54,
   "metadata": {
    "collapsed": true
   },
   "outputs": [],
   "source": [
    "cars_num.drop('normalized-losses', axis=1, inplace=True)"
   ]
  },
  {
   "cell_type": "code",
   "execution_count": 55,
   "metadata": {
    "collapsed": false
   },
   "outputs": [],
   "source": [
    "# other missing values in other columns are replaced by the mean of the column:\n",
    "cars_num = cars_num.fillna(cars_num.mean())"
   ]
  },
  {
   "cell_type": "code",
   "execution_count": 56,
   "metadata": {
    "collapsed": false
   },
   "outputs": [
    {
     "data": {
      "text/plain": [
       "wheel-base          0\n",
       "length              0\n",
       "width               0\n",
       "height              0\n",
       "curb-weight         0\n",
       "engine-size         0\n",
       "bore                0\n",
       "stroke              0\n",
       "compression-rate    0\n",
       "horsepower          0\n",
       "peak-rpm            0\n",
       "city-mpg            0\n",
       "highway-mpg         0\n",
       "price               0\n",
       "dtype: int64"
      ]
     },
     "execution_count": 56,
     "metadata": {},
     "output_type": "execute_result"
    }
   ],
   "source": [
    "# confirming that there are no missing values\n",
    "cars_num.isna().sum(axis=0)"
   ]
  },
  {
   "cell_type": "code",
   "execution_count": 57,
   "metadata": {
    "collapsed": false
   },
   "outputs": [],
   "source": [
    "# Normalizing values (except for price)\n",
    "price_col = cars_num['price']\n",
    "cars_num = (cars_num - cars_num.mean()) / cars_num.std()\n",
    "cars_num['price'] = price_col"
   ]
  },
  {
   "cell_type": "code",
   "execution_count": 58,
   "metadata": {
    "collapsed": false
   },
   "outputs": [
    {
     "data": {
      "text/html": [
       "<div>\n",
       "<style scoped>\n",
       "    .dataframe tbody tr th:only-of-type {\n",
       "        vertical-align: middle;\n",
       "    }\n",
       "\n",
       "    .dataframe tbody tr th {\n",
       "        vertical-align: top;\n",
       "    }\n",
       "\n",
       "    .dataframe thead th {\n",
       "        text-align: right;\n",
       "    }\n",
       "</style>\n",
       "<table border=\"1\" class=\"dataframe\">\n",
       "  <thead>\n",
       "    <tr style=\"text-align: right;\">\n",
       "      <th></th>\n",
       "      <th>wheel-base</th>\n",
       "      <th>length</th>\n",
       "      <th>width</th>\n",
       "      <th>height</th>\n",
       "      <th>curb-weight</th>\n",
       "      <th>engine-size</th>\n",
       "      <th>bore</th>\n",
       "      <th>stroke</th>\n",
       "      <th>compression-rate</th>\n",
       "      <th>horsepower</th>\n",
       "      <th>peak-rpm</th>\n",
       "      <th>city-mpg</th>\n",
       "      <th>highway-mpg</th>\n",
       "      <th>price</th>\n",
       "    </tr>\n",
       "  </thead>\n",
       "  <tbody>\n",
       "    <tr>\n",
       "      <th>118</th>\n",
       "      <td>-0.840209</td>\n",
       "      <td>-1.371592</td>\n",
       "      <td>-0.994092</td>\n",
       "      <td>-1.211962</td>\n",
       "      <td>-1.232690</td>\n",
       "      <td>-0.887568</td>\n",
       "      <td>-1.345575</td>\n",
       "      <td>-0.085125</td>\n",
       "      <td>-0.190833</td>\n",
       "      <td>-0.947315</td>\n",
       "      <td>0.799836</td>\n",
       "      <td>1.840338</td>\n",
       "      <td>1.513310</td>\n",
       "      <td>5572.0</td>\n",
       "    </tr>\n",
       "    <tr>\n",
       "      <th>156</th>\n",
       "      <td>-0.510522</td>\n",
       "      <td>-0.641201</td>\n",
       "      <td>-0.708577</td>\n",
       "      <td>-0.313204</td>\n",
       "      <td>-0.917591</td>\n",
       "      <td>-0.695014</td>\n",
       "      <td>-0.524899</td>\n",
       "      <td>-0.717941</td>\n",
       "      <td>-0.290709</td>\n",
       "      <td>-0.893790</td>\n",
       "      <td>-0.664253</td>\n",
       "      <td>0.750542</td>\n",
       "      <td>0.926382</td>\n",
       "      <td>6938.0</td>\n",
       "    </tr>\n",
       "    <tr>\n",
       "      <th>153</th>\n",
       "      <td>-0.510522</td>\n",
       "      <td>-0.365276</td>\n",
       "      <td>-1.089263</td>\n",
       "      <td>2.178808</td>\n",
       "      <td>-0.532899</td>\n",
       "      <td>-0.839429</td>\n",
       "      <td>-1.047147</td>\n",
       "      <td>-0.717941</td>\n",
       "      <td>-0.290709</td>\n",
       "      <td>-1.107890</td>\n",
       "      <td>-0.664253</td>\n",
       "      <td>0.906227</td>\n",
       "      <td>0.926382</td>\n",
       "      <td>6918.0</td>\n",
       "    </tr>\n",
       "    <tr>\n",
       "      <th>107</th>\n",
       "      <td>1.500567</td>\n",
       "      <td>1.014351</td>\n",
       "      <td>1.194851</td>\n",
       "      <td>1.198344</td>\n",
       "      <td>0.897615</td>\n",
       "      <td>-0.165491</td>\n",
       "      <td>0.482294</td>\n",
       "      <td>-0.211688</td>\n",
       "      <td>-0.440523</td>\n",
       "      <td>-0.171200</td>\n",
       "      <td>-0.245942</td>\n",
       "      <td>-0.961995</td>\n",
       "      <td>-0.981133</td>\n",
       "      <td>11900.0</td>\n",
       "    </tr>\n",
       "    <tr>\n",
       "      <th>14</th>\n",
       "      <td>0.775256</td>\n",
       "      <td>1.201006</td>\n",
       "      <td>0.481066</td>\n",
       "      <td>0.789818</td>\n",
       "      <td>0.965274</td>\n",
       "      <td>0.893555</td>\n",
       "      <td>-0.077258</td>\n",
       "      <td>-0.211688</td>\n",
       "      <td>-0.290709</td>\n",
       "      <td>0.471102</td>\n",
       "      <td>-1.814608</td>\n",
       "      <td>-0.806310</td>\n",
       "      <td>-0.834401</td>\n",
       "      <td>24565.0</td>\n",
       "    </tr>\n",
       "  </tbody>\n",
       "</table>\n",
       "</div>"
      ],
      "text/plain": [
       "     wheel-base    length     width    height  curb-weight  engine-size  \\\n",
       "118   -0.840209 -1.371592 -0.994092 -1.211962    -1.232690    -0.887568   \n",
       "156   -0.510522 -0.641201 -0.708577 -0.313204    -0.917591    -0.695014   \n",
       "153   -0.510522 -0.365276 -1.089263  2.178808    -0.532899    -0.839429   \n",
       "107    1.500567  1.014351  1.194851  1.198344     0.897615    -0.165491   \n",
       "14     0.775256  1.201006  0.481066  0.789818     0.965274     0.893555   \n",
       "\n",
       "         bore    stroke  compression-rate  horsepower  peak-rpm  city-mpg  \\\n",
       "118 -1.345575 -0.085125         -0.190833   -0.947315  0.799836  1.840338   \n",
       "156 -0.524899 -0.717941         -0.290709   -0.893790 -0.664253  0.750542   \n",
       "153 -1.047147 -0.717941         -0.290709   -1.107890 -0.664253  0.906227   \n",
       "107  0.482294 -0.211688         -0.440523   -0.171200 -0.245942 -0.961995   \n",
       "14  -0.077258 -0.211688         -0.290709    0.471102 -1.814608 -0.806310   \n",
       "\n",
       "     highway-mpg    price  \n",
       "118     1.513310   5572.0  \n",
       "156     0.926382   6938.0  \n",
       "153     0.926382   6918.0  \n",
       "107    -0.981133  11900.0  \n",
       "14     -0.834401  24565.0  "
      ]
     },
     "execution_count": 58,
     "metadata": {},
     "output_type": "execute_result"
    }
   ],
   "source": [
    "# normalized dataset\n",
    "cars_num.sample(5)"
   ]
  },
  {
   "cell_type": "markdown",
   "metadata": {
    "collapsed": true
   },
   "source": [
    "-------\n",
    "Univariate Model\n",
    "-----------"
   ]
  },
  {
   "cell_type": "code",
   "execution_count": 59,
   "metadata": {
    "collapsed": true
   },
   "outputs": [],
   "source": [
    "# k-nearest neighbor model with one feature\n",
    "def knn_train_test(df,train_col, target_col, k):\n",
    "    np.random.seed(1)\n",
    "    len_df = len(df)\n",
    "    # randomly shuffling the df\n",
    "    df = df.iloc[np.random.permutation(len_df)]\n",
    "    # 75% dataset for training and 25% for testing\n",
    "    len_train = round(len_df * 0.75)\n",
    "    train_df = df.iloc[:len_train]\n",
    "    test_df = df.iloc[len_train:]\n",
    "    # Kneighbor model using euclidean_distance, fitting on training datset and prediction on test datset\n",
    "    knn = KNeighborsRegressor(n_neighbors=k, algorithm='brute', p=2)\n",
    "    knn.fit(train_df[[train_col]], train_df[target_col])\n",
    "    prediction = knn.predict(test_df[[train_col]])\n",
    "    # root mean square error (RMSE) calcullation\n",
    "    mse = mean_squared_error(test_df[target_col], prediction)\n",
    "    rmse = mse ** 0.5\n",
    "    return (rmse)\n",
    "   "
   ]
  },
  {
   "cell_type": "code",
   "execution_count": 60,
   "metadata": {
    "collapsed": true
   },
   "outputs": [],
   "source": [
    "# using the function to find the best feature at different k values\n",
    "k_value = [1, 3, 5, 7, 9]\n",
    "features = cars_num.columns.drop('price')\n",
    "rmse_list = []\n",
    "\n",
    "for train_col in features: \n",
    "    rmse_k = []\n",
    "    for k in k_value:\n",
    "        rmse = knn_train_test(cars_num, train_col, 'price', k)\n",
    "        rmse_k.append(rmse)\n",
    "    rmse_list.append(rmse_k)"
   ]
  },
  {
   "cell_type": "code",
   "execution_count": 61,
   "metadata": {
    "collapsed": false
   },
   "outputs": [
    {
     "data": {
      "image/png": "[encoded data removed]",
      "text/plain": [
       "<matplotlib.figure.Figure at 0x7f7048a87080>"
      ]
     },
     "metadata": {},
     "output_type": "display_data"
    }
   ],
   "source": [
    "# plotting the RMSE vs k-value for all features\n",
    "%matplotlib inline\n",
    "cmap = plt.get_cmap('Accent')\n",
    "for i in range(len(features)):\n",
    "    color = cmap(float(i)/len(features))\n",
    "    plt.plot(k_value,  rmse_list[i], label=features[i], c=color)\n",
    "    plt.xlabel('k-value')\n",
    "    plt.ylabel('RMSE')\n",
    "    plt.xlim(0,10)\n",
    "    plt.legend(bbox_to_anchor=(1, 1), loc='upper left', ncol=1, \n",
    "               prop={'size': 11})\n"
   ]
  },
  {
   "cell_type": "code",
   "execution_count": 62,
   "metadata": {
    "collapsed": false
   },
   "outputs": [
    {
     "data": {
      "text/plain": [
       "[('engine-size', 2949.0),\n",
       " ('width', 3695.0),\n",
       " ('wheel-base', 3856.0),\n",
       " ('curb-weight', 3988.0),\n",
       " ('city-mpg', 4056.0),\n",
       " ('highway-mpg', 4159.0),\n",
       " ('horsepower', 4423.0),\n",
       " ('length', 5099.0),\n",
       " ('compression-rate', 5930.0),\n",
       " ('height', 6788.0),\n",
       " ('bore', 6896.0),\n",
       " ('peak-rpm', 7154.0),\n",
       " ('stroke', 7416.0)]"
      ]
     },
     "execution_count": 62,
     "metadata": {},
     "output_type": "execute_result"
    }
   ],
   "source": [
    "# calcaulating average RMSE values for each feature (parameter) across different k-values\n",
    "rmse_param = {}\n",
    "for i,par in enumerate(features):\n",
    "    rmse_param[par] = round(sum(rmse_list[i]) / len(k_value))\n",
    "    \n",
    "# sorting the dictionary\n",
    "sorted_rmse_param = sorted(rmse_param.items(), key=lambda x:x[1])\n",
    "sorted_rmse_param"
   ]
  },
  {
   "cell_type": "markdown",
   "metadata": {
    "collapsed": true
   },
   "source": [
    "Based on the results, it seems that the following parameters are the best to be used for the multivariate k-nearest neighbors model:\n",
    "- engine-size\n",
    "- width\n",
    "- wheel-base\n",
    "- curb_weight\n",
    "- city-mpg (mile per gallon)\n",
    "- highway-mpg (mile per gallon)\n",
    "- horsepower"
   ]
  },
  {
   "cell_type": "markdown",
   "metadata": {},
   "source": [
    "------\n",
    "Multivariate Model\n",
    "------"
   ]
  },
  {
   "cell_type": "code",
   "execution_count": 63,
   "metadata": {
    "collapsed": true
   },
   "outputs": [],
   "source": [
    "# k-nearest neighbor model with multi features (multivariate)\n",
    "def knn_train_test_multi(df,train_cols, target_col, k):\n",
    "    np.random.seed(1)\n",
    "    len_df = len(df)\n",
    "    # randomly shuffling the df\n",
    "    df = df.iloc[np.random.permutation(len_df)]\n",
    "    # 75% dataset for training and 25% for testing\n",
    "    len_train = round(len_df * 0.75)\n",
    "    train_df = df.iloc[:len_train]\n",
    "    test_df = df.iloc[len_train:]\n",
    "    # Kneighbor model using euclidean_distance, fitting on training datset and prediction on test datset\n",
    "    knn = KNeighborsRegressor(n_neighbors=k, algorithm='brute', p=2)\n",
    "    knn.fit(train_df[train_cols], train_df[target_col])\n",
    "    prediction = knn.predict(test_df[train_cols])\n",
    "    # root mean square error calcullation\n",
    "    mse = mean_squared_error(test_df[target_col], prediction)\n",
    "    rmse = mse ** 0.5\n",
    "    return (rmse)"
   ]
  },
  {
   "cell_type": "code",
   "execution_count": 64,
   "metadata": {
    "collapsed": false
   },
   "outputs": [
    {
     "data": {
      "text/plain": [
       "{2: 2537.655173265273,\n",
       " 3: 2568.5140030764874,\n",
       " 4: 2434.3489411339533,\n",
       " 5: 2535.4238149863622,\n",
       " 6: 2554.233288797247}"
      ]
     },
     "execution_count": 64,
     "metadata": {},
     "output_type": "execute_result"
    }
   ],
   "source": [
    "# running the fuction with the combination of 2 to 6 best features identified in the previous section\n",
    "# and k-value=5\n",
    "rmse_multi = {}\n",
    "for i in range(2,7):\n",
    "    #selecting first i parmaeters from sorted_rmse_param\n",
    "    train_cols = [sorted_rmse_param[j][0] for j in range(i)]\n",
    "    k = 5\n",
    "    rmse_multi[i] = knn_train_test_multi(cars_num, train_cols, 'price', k)\n",
    "# RMSE values with the combination of 2 to 6 best features\n",
    "rmse_multi"
   ]
  },
  {
   "cell_type": "markdown",
   "metadata": {},
   "source": [
    "The lowest RMSE value is when 4 features are considered, but the differences between RMSE values are not big. "
   ]
  },
  {
   "cell_type": "markdown",
   "metadata": {},
   "source": [
    "------------\n",
    "Hyperparameter Tuning\n",
    "-------------"
   ]
  },
  {
   "cell_type": "markdown",
   "metadata": {},
   "source": [
    "To optimize the model, we vary the hyperparameter (k-value) value from 1 to 25"
   ]
  },
  {
   "cell_type": "code",
   "execution_count": 65,
   "metadata": {
    "collapsed": false
   },
   "outputs": [],
   "source": [
    "# running the fuction with 2 to 6 best combination of features with varying k-values\n",
    "rmse_multi_hp = {}\n",
    "for i in range(2,7):\n",
    "    #selecting first i features from sorted_rmse_param\n",
    "    train_cols = [sorted_rmse_param[j][0] for j in range(i)]\n",
    "    rmse_mulit_k = []\n",
    "    # k-value from 1 to 25\n",
    "    kmax=25\n",
    "    k_values = range(1, kmax+1)\n",
    "    for k in k_values:\n",
    "        rmse_mulit_k.append(knn_train_test_multi(cars_num, train_cols, 'price', k))\n",
    "    rmse_multi_hp[i] = rmse_mulit_k\n"
   ]
  },
  {
   "cell_type": "code",
   "execution_count": 66,
   "metadata": {
    "collapsed": false
   },
   "outputs": [
    {
     "data": {
      "image/png": "[encoded data removed]",
      "text/plain": [
       "<matplotlib.figure.Figure at 0x7f7046923470>"
      ]
     },
     "metadata": {},
     "output_type": "display_data"
    }
   ],
   "source": [
    "# plotting the RMSE vs k-value \n",
    "for i in rmse_multi_hp:\n",
    "    plt.plot(k_values,  rmse_multi_hp[i], label='{}-feature model'.format(i))\n",
    "    plt.xlabel('k-value')\n",
    "    plt.ylabel('RMSE')\n",
    "    plt.xlim(0,26)\n",
    "    plt.ylim(1800,4000)\n",
    "    plt.legend(bbox_to_anchor=(1, 1), loc='upper left', ncol=1, \n",
    "               prop={'size': 11})\n"
   ]
  },
  {
   "cell_type": "markdown",
   "metadata": {},
   "source": [
    "No big difference between 2- to 6-feature models. The lowest RMSE values are always for k < 5. \n",
    "The lowest RMSe if for 4-parameter model at k=1. The 4 features in the model are:\n",
    "- engine-size\n",
    "- width\n",
    "- wheel-base\n",
    "- curb_weight"
   ]
  },
  {
   "cell_type": "markdown",
   "metadata": {},
   "source": [
    "---------------\n",
    "k-fold Cross Validation\n",
    "----------"
   ]
  },
  {
   "cell_type": "markdown",
   "metadata": {},
   "source": [
    "To further improve the validation process of the models, instead of test/train validation, we can use the k-fold cross validation:"
   ]
  },
  {
   "cell_type": "code",
   "execution_count": 67,
   "metadata": {
    "collapsed": true
   },
   "outputs": [],
   "source": [
    "# k-nearest neighbor model with multi features and k-fold cross validation\n",
    "def knn_train_test_multi_kfold(df,train_cols, target_col, k, kfold):\n",
    "    # Kneighbor model\n",
    "    knn = KNeighborsRegressor(n_neighbors=k, algorithm='brute', p=2)\n",
    "    # instantiating the KFold class\n",
    "    kf = KFold(kfold, shuffle=True, random_state=1)\n",
    "    # implementing k-fold cross validation to calculate MSE usisng negative mean squared error:\n",
    "    mse = cross_val_score(knn, df[train_cols], df[target_col],\n",
    "                          scoring=\"neg_mean_squared_error\", cv=kf)\n",
    "    # calculating average of MSE values\n",
    "    avg_mse = np.mean(mse)\n",
    "    # root mean square error calcullation\n",
    "    rmse = (-avg_mse) ** 0.5\n",
    "    return (rmse)"
   ]
  },
  {
   "cell_type": "code",
   "execution_count": 68,
   "metadata": {
    "collapsed": false
   },
   "outputs": [],
   "source": [
    "# running the fuction with 2 to 6 best combination of features with varying k-values\n",
    "# k-fold value = 5\n",
    "rmse_multi_hp = {}\n",
    "for i in range(2,7):\n",
    "    #selecting first i features from sorted_rmse_param\n",
    "    train_cols = [sorted_rmse_param[j][0] for j in range(i)]\n",
    "    rmse_mulit_k = []\n",
    "    # k-value from 1 to 25\n",
    "    kmax=25\n",
    "    k_values = range(1, kmax+1)\n",
    "    # k-fold value\n",
    "    kfold = 5\n",
    "    for k in k_values:\n",
    "        rmse_mulit_k.append(knn_train_test_multi_kfold(cars_num, train_cols,\n",
    "                                                 'price', k, kfold))\n",
    "    rmse_multi_hp[i] = rmse_mulit_k"
   ]
  },
  {
   "cell_type": "code",
   "execution_count": 69,
   "metadata": {
    "collapsed": false
   },
   "outputs": [
    {
     "data": {
      "image/png": "[encoded data removed]",
      "text/plain": [
       "<matplotlib.figure.Figure at 0x7f70469207f0>"
      ]
     },
     "metadata": {},
     "output_type": "display_data"
    }
   ],
   "source": [
    "# plotting the RMSE vs k-value \n",
    "for i in rmse_multi_hp:\n",
    "    plt.plot(k_values,  rmse_multi_hp[i], label='{}-feature model'.format(i))\n",
    "    plt.xlabel('k-value')\n",
    "    plt.ylabel('RMSE')\n",
    "    plt.xlim(0,26)\n",
    "    #plt.ylim(1800,4000)\n",
    "    plt.legend(bbox_to_anchor=(1, 1), loc='upper left', ncol=1, \n",
    "               prop={'size': 11})"
   ]
  },
  {
   "cell_type": "markdown",
   "metadata": {},
   "source": [
    "The lowest values for RMSE is at k=1 for all the models:"
   ]
  },
  {
   "cell_type": "code",
   "execution_count": 70,
   "metadata": {
    "collapsed": false
   },
   "outputs": [
    {
     "name": "stdout",
     "output_type": "stream",
     "text": [
      "2-feature model: RMSE at k=1 is 2916.8\n",
      "3-feature model: RMSE at k=1 is 3051.7\n",
      "4-feature model: RMSE at k=1 is 2726.5\n",
      "5-feature model: RMSE at k=1 is 2728.2\n",
      "6-feature model: RMSE at k=1 is 2784.5\n"
     ]
    }
   ],
   "source": [
    "for key, value in rmse_multi_hp.items():\n",
    "    print('{0}-feature model: RMSE at k=1 is {1:.1f}'\n",
    "          .format(key, value[0]))"
   ]
  },
  {
   "cell_type": "markdown",
   "metadata": {},
   "source": [
    "The best model is the the 4-feature model at k=1 with the following parameters:\n",
    "- engine-size\n",
    "- width\n",
    "- wheel-base\n",
    "- curb_weight\n"
   ]
  },
  {
   "cell_type": "code",
   "execution_count": null,
   "metadata": {
    "collapsed": true
   },
   "outputs": [],
   "source": []
  }
 ],
 "metadata": {
  "kernelspec": {
   "display_name": "Python 3",
   "language": "python",
   "name": "python3"
  },
  "language_info": {
   "codemirror_mode": {
    "name": "ipython",
    "version": 3
   },
   "file_extension": ".py",
   "mimetype": "text/x-python",
   "name": "python",
   "nbconvert_exporter": "python",
   "pygments_lexer": "ipython3",
   "version": "3.4.3"
  }
 },
 "nbformat": 4,
 "nbformat_minor": 2
}
